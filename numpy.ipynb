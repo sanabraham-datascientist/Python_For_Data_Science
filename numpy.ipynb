{
 "cells": [
  {
   "cell_type": "code",
   "execution_count": 3,
   "metadata": {
    "id": "5m78qqasz1sY",
    "outputId": "2e8b2e29-5c5a-4cc8-9c00-809afcb9919a"
   },
   "outputs": [
    {
     "name": "stdout",
     "output_type": "stream",
     "text": [
      "Requirement already satisfied: numpy in /home/sana/test/notebookenv/lib/python3.10/site-packages (2.1.0)\n",
      "\n",
      "\u001b[1m[\u001b[0m\u001b[34;49mnotice\u001b[0m\u001b[1;39;49m]\u001b[0m\u001b[39;49m A new release of pip is available: \u001b[0m\u001b[31;49m24.1\u001b[0m\u001b[39;49m -> \u001b[0m\u001b[32;49m24.2\u001b[0m\n",
      "\u001b[1m[\u001b[0m\u001b[34;49mnotice\u001b[0m\u001b[1;39;49m]\u001b[0m\u001b[39;49m To update, run: \u001b[0m\u001b[32;49mpip install --upgrade pip\u001b[0m\n"
     ]
    }
   ],
   "source": [
    "!pip install numpy "
   ]
  },
  {
   "cell_type": "code",
   "execution_count": 4,
   "metadata": {
    "id": "XtCuqQDhz1sd"
   },
   "outputs": [],
   "source": [
    "import numpy as np"
   ]
  },
  {
   "cell_type": "markdown",
   "metadata": {
    "jp-MarkdownHeadingCollapsed": true
   },
   "source": [
    "### Creating Arrays"
   ]
  },
  {
   "cell_type": "code",
   "execution_count": 7,
   "metadata": {},
   "outputs": [
    {
     "name": "stdout",
     "output_type": "stream",
     "text": [
      "[1 2 3]\n",
      "<class 'numpy.ndarray'>\n"
     ]
    }
   ],
   "source": [
    "a = np.array([1, 2, 3])\n",
    "print(a)\n",
    "print(type(a))"
   ]
  },
  {
   "cell_type": "code",
   "execution_count": 8,
   "metadata": {},
   "outputs": [
    {
     "name": "stdout",
     "output_type": "stream",
     "text": [
      "[[1 2 3]\n",
      " [4 5 6]]\n",
      "<class 'numpy.ndarray'>\n"
     ]
    }
   ],
   "source": [
    "b = np.array([[1, 2, 3], [4, 5, 6]])\n",
    "print(b)\n",
    "print(type(b))"
   ]
  },
  {
   "cell_type": "code",
   "execution_count": 9,
   "metadata": {},
   "outputs": [
    {
     "data": {
      "text/plain": [
       "array([[0., 0., 0., 0.],\n",
       "       [0., 0., 0., 0.],\n",
       "       [0., 0., 0., 0.]])"
      ]
     },
     "execution_count": 9,
     "metadata": {},
     "output_type": "execute_result"
    }
   ],
   "source": [
    "np.zeros( (3, 4) ) "
   ]
  },
  {
   "cell_type": "code",
   "execution_count": 10,
   "metadata": {},
   "outputs": [
    {
     "data": {
      "text/plain": [
       "array([[1., 1., 1., 1.],\n",
       "       [1., 1., 1., 1.],\n",
       "       [1., 1., 1., 1.]])"
      ]
     },
     "execution_count": 10,
     "metadata": {},
     "output_type": "execute_result"
    }
   ],
   "source": [
    "np.ones( (3, 4) )"
   ]
  },
  {
   "cell_type": "code",
   "execution_count": 11,
   "metadata": {},
   "outputs": [
    {
     "data": {
      "text/plain": [
       "array([[5, 5, 5, 5],\n",
       "       [5, 5, 5, 5],\n",
       "       [5, 5, 5, 5]])"
      ]
     },
     "execution_count": 11,
     "metadata": {},
     "output_type": "execute_result"
    }
   ],
   "source": [
    "#To create a 3 by 4 array with the value 5\n",
    "np.full( (3, 4), 5 )"
   ]
  },
  {
   "cell_type": "code",
   "execution_count": 12,
   "metadata": {},
   "outputs": [
    {
     "data": {
      "text/plain": [
       "array([0, 1, 2, 3, 4, 5, 6, 7, 8, 9])"
      ]
     },
     "execution_count": 12,
     "metadata": {},
     "output_type": "execute_result"
    }
   ],
   "source": [
    "#To create an array of 10 numbers from 0 to 9, i.e. [0, 1, 2, 3, 4, 5, 6, 7, 8, 9]\n",
    "np.arange(10)"
   ]
  },
  {
   "cell_type": "code",
   "execution_count": 13,
   "metadata": {},
   "outputs": [
    {
     "data": {
      "text/plain": [
       "array([1, 3, 5, 7, 9])"
      ]
     },
     "execution_count": 13,
     "metadata": {},
     "output_type": "execute_result"
    }
   ],
   "source": [
    "#To create an array of odd numbers from 1 to 10, i.e. [1, 3, 5, 7, 9]\n",
    "np.arange(1,10,2)"
   ]
  },
  {
   "cell_type": "code",
   "execution_count": 14,
   "metadata": {},
   "outputs": [
    {
     "data": {
      "text/plain": [
       "array([0. , 4.5, 9. ])"
      ]
     },
     "execution_count": 14,
     "metadata": {},
     "output_type": "execute_result"
    }
   ],
   "source": [
    "#To create an array with 3 evenly spaced numbers between 0 to 9\n",
    "np.linspace(0, 9, 3)"
   ]
  },
  {
   "cell_type": "markdown",
   "metadata": {
    "jp-MarkdownHeadingCollapsed": true
   },
   "source": [
    "### Attributes of ndarray"
   ]
  },
  {
   "cell_type": "code",
   "execution_count": 53,
   "metadata": {},
   "outputs": [
    {
     "name": "stdout",
     "output_type": "stream",
     "text": [
      "[[ 0  2  4  6]\n",
      " [ 8 10 12 14]\n",
      " [16 18 20 22]]\n",
      "2\n",
      "12\n",
      "(3, 4)\n",
      "int64\n",
      "int64\n",
      "[[ 0  2  4  6]\n",
      " [ 8 10 12 14]\n",
      " [16 18 20 22]]\n",
      "2\n",
      "12\n",
      "(3, 4)\n",
      "int64\n",
      "int64\n"
     ]
    }
   ],
   "source": [
    "#ndarray.ndim – the number of axes (dimensions) of the array.\n",
    "#ndarray.shape – the dimensions of the array.\n",
    "#ndarray.size – the number of elements.\n",
    "#ndarray.dtype – the data type object of the array, which gives details on the type and size of the data.\n",
    "#ndarray.dtype.name -- the name of the data type.\n",
    "#ndarray.dtype.name – the type of the elements in the array\n",
    "print(a)\n",
    "print(a.ndim)\n",
    "print(a.size)\n",
    "print(a.shape)\n",
    "print(a.dtype)\n",
    "print(a.dtype.name)\n",
    "print(b)\n",
    "print(b.ndim)\n",
    "print(b.size)\n",
    "print(b.shape)\n",
    "print(b.dtype)\n",
    "print(b.dtype.name)"
   ]
  },
  {
   "cell_type": "markdown",
   "metadata": {
    "jp-MarkdownHeadingCollapsed": true
   },
   "source": [
    "### Changing the Shape of the Array"
   ]
  },
  {
   "cell_type": "code",
   "execution_count": 27,
   "metadata": {},
   "outputs": [
    {
     "name": "stdout",
     "output_type": "stream",
     "text": [
      "a = [[0 1 2 3]\n",
      " [4 5 6 7]]\n",
      "a = [[0 1]\n",
      " [2 3]\n",
      " [4 5]\n",
      " [6 7]]\n",
      "c = [0 1 2 3 4 5 6 7]\n"
     ]
    }
   ],
   "source": [
    "#reshape() – return an array with the modified shape\n",
    "#resize() – modify the array shape\n",
    "#ravel() – return a flattened array\n",
    "a = np.array([[0,1,2,3],[4,5,6,7]])\n",
    "a.reshape(4,2)\n",
    "print(\"a =\",a)\n",
    "a.resize(4,2)\n",
    "print(\"a =\",a)\n",
    "c = a.ravel()\n",
    "print(\"c =\",c)\n"
   ]
  },
  {
   "cell_type": "markdown",
   "metadata": {
    "jp-MarkdownHeadingCollapsed": true
   },
   "source": [
    "### Printing Arrays"
   ]
  },
  {
   "cell_type": "code",
   "execution_count": 29,
   "metadata": {},
   "outputs": [
    {
     "name": "stdout",
     "output_type": "stream",
     "text": [
      "[   0    1    2 ... 9997 9998 9999]\n"
     ]
    }
   ],
   "source": [
    "print(np.arange(10000))"
   ]
  },
  {
   "cell_type": "code",
   "execution_count": 30,
   "metadata": {},
   "outputs": [
    {
     "name": "stdout",
     "output_type": "stream",
     "text": [
      "[[   0    1    2 ...   17   18   19]\n",
      " [  20   21   22 ...   37   38   39]\n",
      " [  40   41   42 ...   57   58   59]\n",
      " ...\n",
      " [9940 9941 9942 ... 9957 9958 9959]\n",
      " [9960 9961 9962 ... 9977 9978 9979]\n",
      " [9980 9981 9982 ... 9997 9998 9999]]\n"
     ]
    }
   ],
   "source": [
    "print(np.arange(10000).reshape(500,20))"
   ]
  },
  {
   "cell_type": "markdown",
   "metadata": {
    "jp-MarkdownHeadingCollapsed": true
   },
   "source": [
    "### Transposing the Array"
   ]
  },
  {
   "cell_type": "code",
   "execution_count": 36,
   "metadata": {},
   "outputs": [
    {
     "name": "stdout",
     "output_type": "stream",
     "text": [
      "[[0 4]\n",
      " [1 5]\n",
      " [2 6]\n",
      " [3 7]]\n",
      "[[0 4]\n",
      " [1 5]\n",
      " [2 6]\n",
      " [3 7]]\n",
      "[[7 6 5 4]\n",
      " [3 2 1 0]]\n"
     ]
    }
   ],
   "source": [
    "# transpose() – reverse or permute the axes of an array and return that modified array (Note: same as ndarray.transpose())\n",
    "# flip() – reverse the order of elements in an array along the given axis. If axis not specified, flip over all axes.\n",
    "\n",
    "a = np.array([[0,1,2,3],[4,5,6,7]])\n",
    "t1 = a.transpose()\n",
    "print(t1)\n",
    "t2 = a.transpose((1,0))\n",
    "print(t2)\n",
    "f = np.flip(a)\n",
    "print(f)"
   ]
  },
  {
   "cell_type": "code",
   "execution_count": 33,
   "metadata": {},
   "outputs": [
    {
     "data": {
      "text/plain": [
       "array([[0, 1, 2, 3],\n",
       "       [4, 5, 6, 7]])"
      ]
     },
     "execution_count": 33,
     "metadata": {},
     "output_type": "execute_result"
    }
   ],
   "source": [
    "a"
   ]
  },
  {
   "cell_type": "code",
   "execution_count": 4,
   "metadata": {
    "id": "GOr820Imz1sw",
    "outputId": "08cfcdc2-f554-49b0-86ae-c391d4d82de2"
   },
   "outputs": [
    {
     "name": "stdout",
     "output_type": "stream",
     "text": [
      "[[1 0]\n",
      " [0 4]]\n",
      "[[1 2]\n",
      " [3 4]]\n",
      "[[1 2]\n",
      " [3 4]]\n"
     ]
    }
   ],
   "source": [
    "a = np.array([[1, 0], [0, 1]])\n",
    "b = np.array([[1, 2], [3, 4]])\n",
    "\n",
    "print (a * b) # Return elementwise product\n",
    "print (a @ b) # Return matrix product\n",
    "print (a.dot(b)) # Return matrix product"
   ]
  },
  {
   "cell_type": "markdown",
   "metadata": {
    "id": "1HKJ6hHSz1sw"
   },
   "source": [
    "Indexing and Slicing"
   ]
  },
  {
   "cell_type": "code",
   "execution_count": 5,
   "metadata": {
    "id": "3nakEOctz1sx",
    "outputId": "1cb40c40-5f58-4ec9-fa2c-9773eab02358"
   },
   "outputs": [
    {
     "name": "stdout",
     "output_type": "stream",
     "text": [
      "[0 2 4 6]\n",
      "4\n",
      "[2 4]\n"
     ]
    }
   ],
   "source": [
    "# Indexing and slicing on one-dimensional array\n",
    "a = np.arange(0, 8, 2)\n",
    "print (a)\n",
    "print (a[2]) # Indexing\n",
    "print (a[1:3]) # Slicing"
   ]
  },
  {
   "cell_type": "code",
   "execution_count": 1,
   "metadata": {
    "id": "brYYeo9Zz1s0",
    "outputId": "e8449f59-6a47-46f8-c327-1cba0c627d6d"
   },
   "outputs": [
    {
     "ename": "NameError",
     "evalue": "name 'np' is not defined",
     "output_type": "error",
     "traceback": [
      "\u001b[0;31m---------------------------------------------------------------------------\u001b[0m",
      "\u001b[0;31mNameError\u001b[0m                                 Traceback (most recent call last)",
      "Cell \u001b[0;32mIn[1], line 1\u001b[0m\n\u001b[0;32m----> 1\u001b[0m a \u001b[38;5;241m=\u001b[39m \u001b[43mnp\u001b[49m\u001b[38;5;241m.\u001b[39marange(\u001b[38;5;241m9\u001b[39m)\u001b[38;5;241m.\u001b[39mreshape(\u001b[38;5;241m3\u001b[39m, \u001b[38;5;241m3\u001b[39m) \u001b[38;5;66;03m# [[0,1,2],[3,4,5],[6,7,8]]\u001b[39;00m\n\u001b[1;32m      2\u001b[0m b \u001b[38;5;241m=\u001b[39m a[:\u001b[38;5;241m2\u001b[39m] \u001b[38;5;66;03m# b is a new array object: [[0,1,2],[3,4,5]]\u001b[39;00m\n\u001b[1;32m      3\u001b[0m b[\u001b[38;5;241m0\u001b[39m, \u001b[38;5;241m2\u001b[39m] \u001b[38;5;241m=\u001b[39m \u001b[38;5;241m100\u001b[39m \u001b[38;5;66;03m# Modifying one of b's elements\u001b[39;00m\n",
      "\u001b[0;31mNameError\u001b[0m: name 'np' is not defined"
     ]
    }
   ],
   "source": [
    "a = np.arange(9).reshape(3, 3) # [[0,1,2],[3,4,5],[6,7,8]]\n",
    "b = a[:2] # b is a new array object: [[0,1,2],[3,4,5]]\n",
    "b[0, 2] = 100 # Modifying one of b's elements\n",
    "print (a) # a is also modified"
   ]
  },
  {
   "cell_type": "markdown",
   "metadata": {
    "id": "LNmXeggtz1s0"
   },
   "source": [
    "Indexing with Boolean Array"
   ]
  },
  {
   "cell_type": "code",
   "execution_count": null,
   "metadata": {
    "id": "HT_7K8n0z1s0",
    "outputId": "960f6590-32fa-4e55-c476-a9a222c6fe90"
   },
   "outputs": [
    {
     "name": "stdout",
     "output_type": "stream",
     "text": [
      "[[False  True  True]\n",
      " [ True  True  True]\n",
      " [ True  True  True]]\n"
     ]
    }
   ],
   "source": [
    "a = np.arange(9).reshape(3, 3) # [[0,1,2],[3,4,5],[6,7,8]]\n",
    "print (a>0)"
   ]
  },
  {
   "cell_type": "code",
   "execution_count": null,
   "metadata": {
    "id": "0k-h1fIrz1s1",
    "outputId": "2daf6cc2-9a6d-436b-e339-f93c28e91d68"
   },
   "outputs": [
    {
     "name": "stdout",
     "output_type": "stream",
     "text": [
      "[0 1 2 3 4]\n",
      "[0 2 4 6 8]\n"
     ]
    }
   ],
   "source": [
    "a = np.arange(9).reshape(3, 3) # [[0,1,2],[3,4,5],[6,7,8]]\n",
    "print (a[ a<5 ])\n",
    "print (a[ a%2 == 0 ])"
   ]
  },
  {
   "cell_type": "markdown",
   "metadata": {
    "id": "5BbXPoGFz1s1"
   },
   "source": [
    "Indexing with Array of Indices"
   ]
  },
  {
   "cell_type": "code",
   "execution_count": null,
   "metadata": {
    "id": "aS-7S67Sz1s1",
    "outputId": "6d70508e-346b-4266-d418-a5ad2dd45e65"
   },
   "outputs": [
    {
     "name": "stdout",
     "output_type": "stream",
     "text": [
      "[[[0 1 2]\n",
      "  [6 7 8]]\n",
      "\n",
      " [[0 1 2]\n",
      "  [3 4 5]]]\n"
     ]
    }
   ],
   "source": [
    "a = np.arange(9).reshape(3, 3) # [[0,1,2],[3,4,5],[6,7,8]]\n",
    "i = np.array([[0,2], [0, 1]])\n",
    "print (a[i])"
   ]
  },
  {
   "cell_type": "markdown",
   "metadata": {
    "jp-MarkdownHeadingCollapsed": true
   },
   "source": [
    "### Operations"
   ]
  },
  {
   "cell_type": "code",
   "execution_count": 40,
   "metadata": {},
   "outputs": [
    {
     "name": "stdout",
     "output_type": "stream",
     "text": [
      "[[ 0  1  2  3]\n",
      " [ 4  5  6  7]\n",
      " [ 8  9 10 11]]\n",
      "[[  0  10  20  30]\n",
      " [ 40  50  60  70]\n",
      " [ 80  90 100 110]]\n",
      "[[ True  True  True  True]\n",
      " [ True False False False]\n",
      " [False False False False]]\n"
     ]
    }
   ],
   "source": [
    "a = np.arange(12).reshape(3,4)\n",
    "print(a)\n",
    "print(a * 10)\n",
    "print(a < 5)"
   ]
  },
  {
   "cell_type": "code",
   "execution_count": 41,
   "metadata": {},
   "outputs": [
    {
     "name": "stdout",
     "output_type": "stream",
     "text": [
      "[[1 0]\n",
      " [0 4]]\n",
      "[[1 2]\n",
      " [3 4]]\n",
      "[[1 2]\n",
      " [3 4]]\n"
     ]
    }
   ],
   "source": [
    "a = np.array([[1, 0], [0, 1]])\n",
    "b = np.array([[1, 2], [3, 4]])\n",
    "\n",
    "print (a * b) # Return elementwise product\n",
    "print (a @ b) # Return matrix product\n",
    "print (a.dot(b)) # Return matrix product"
   ]
  },
  {
   "cell_type": "markdown",
   "metadata": {
    "id": "wvhxBS3Az1s1"
   },
   "source": [
    "### Indexing and Slicing"
   ]
  },
  {
   "cell_type": "code",
   "execution_count": 42,
   "metadata": {},
   "outputs": [
    {
     "name": "stdout",
     "output_type": "stream",
     "text": [
      "[0 2 4 6]\n",
      "4\n",
      "[2 4]\n"
     ]
    }
   ],
   "source": [
    "# Indexing and slicing on one-dimensional array\n",
    "a = np.arange(0, 8, 2)\n",
    "print (a)\n",
    "print (a[2]) # Indexing\n",
    "print (a[1:3]) # Slicing"
   ]
  },
  {
   "cell_type": "code",
   "execution_count": 45,
   "metadata": {},
   "outputs": [
    {
     "name": "stdout",
     "output_type": "stream",
     "text": [
      "[[0 1 2]\n",
      " [3 4 5]\n",
      " [6 7 8]]\n",
      "[[0 1 2]\n",
      " [3 4 5]]\n",
      "[[  0   1 100]\n",
      " [  3   4   5]\n",
      " [  6   7   8]]\n"
     ]
    }
   ],
   "source": [
    "a = np.arange(9).reshape(3, 3) # [[0,1,2],[3,4,5],[6,7,8]]\n",
    "print(a)\n",
    "b = a[:2] # b is a new array object: [[0,1,2],[3,4,5]]\n",
    "print(b)\n",
    "b[0, 2] = 100 # Modifying one of b's elements\n",
    "print (a) # a is also modified"
   ]
  },
  {
   "cell_type": "code",
   "execution_count": 52,
   "metadata": {},
   "outputs": [
    {
     "name": "stdout",
     "output_type": "stream",
     "text": [
      "[[ 0  2  4  6]\n",
      " [ 8 10 12 14]\n",
      " [16 18 20 22]]\n",
      "12\n",
      "[ 2 10]\n",
      "[ 2 10 18]\n"
     ]
    }
   ],
   "source": [
    "b = np.arange(0,24,2).reshape(3, 4) \n",
    "print(b)\n",
    "print(b[1,2])\n",
    "print(b[0:2,1])\n",
    "print(b[:,1])"
   ]
  },
  {
   "cell_type": "markdown",
   "metadata": {},
   "source": [
    "### Iterating Array"
   ]
  },
  {
   "cell_type": "code",
   "execution_count": 54,
   "metadata": {},
   "outputs": [
    {
     "name": "stdout",
     "output_type": "stream",
     "text": [
      "[0 2 4 6]\n",
      "[ 8 10 12 14]\n",
      "[16 18 20 22]\n"
     ]
    }
   ],
   "source": [
    "b = np.arange(0, 24, 2).reshape(3, 4)\n",
    "for row in b:\n",
    "    print (row)"
   ]
  },
  {
   "cell_type": "code",
   "execution_count": 55,
   "metadata": {},
   "outputs": [
    {
     "name": "stdout",
     "output_type": "stream",
     "text": [
      "0\n",
      "2\n",
      "4\n",
      "6\n",
      "8\n",
      "10\n",
      "12\n",
      "14\n",
      "16\n",
      "18\n",
      "20\n",
      "22\n"
     ]
    }
   ],
   "source": [
    "for x in b.flat:\n",
    "    print (x)"
   ]
  },
  {
   "cell_type": "markdown",
   "metadata": {},
   "source": [
    "### Copying"
   ]
  },
  {
   "cell_type": "code",
   "execution_count": 56,
   "metadata": {},
   "outputs": [
    {
     "name": "stdout",
     "output_type": "stream",
     "text": [
      "[[0 1 2]\n",
      " [3 4 5]]\n",
      "[[  0   1 100]\n",
      " [  3   4   5]]\n"
     ]
    }
   ],
   "source": [
    "a = np.arange(6).reshape(2, 3) # [[0,1,2],[3,4,5]]\n",
    "print (a)\n",
    "\n",
    "b = a # b is a reference of a, not a new array object\n",
    "b[0, 2] = 100 # Modifying one of b's elements\n",
    "print (a) # a is modified "
   ]
  },
  {
   "cell_type": "code",
   "execution_count": 57,
   "metadata": {},
   "outputs": [
    {
     "name": "stdout",
     "output_type": "stream",
     "text": [
      "[[0 1 2]\n",
      " [3 4 5]]\n"
     ]
    }
   ],
   "source": [
    "a = np.arange(6).reshape(2, 3) # [[0,1,2],[3,4,5]]\n",
    "b = a.copy() # b is a new array object\n",
    "\n",
    "b[0, 2] = 100 # Modifying one of b's elements\n",
    "print (a) # Only b is modified, but not a"
   ]
  },
  {
   "cell_type": "code",
   "execution_count": 58,
   "metadata": {},
   "outputs": [
    {
     "name": "stdout",
     "output_type": "stream",
     "text": [
      "[[  0   1 100]\n",
      " [  3   4   5]]\n"
     ]
    }
   ],
   "source": [
    "a = np.arange(6).reshape(2, 3) # [[0,1,2],[3,4,5]]\n",
    "b = a.view() # b is a new array object\n",
    "\n",
    "b[0, 2] = 100 # Modifying one of b's elements\n",
    "b.resize(3, 2) # b's shape is changed\n",
    "print (a) # a's data is changed but shape is not changed"
   ]
  },
  {
   "cell_type": "code",
   "execution_count": 59,
   "metadata": {},
   "outputs": [
    {
     "name": "stdout",
     "output_type": "stream",
     "text": [
      "[[  0   1 100]\n",
      " [  3   4   5]\n",
      " [  6   7   8]]\n"
     ]
    }
   ],
   "source": [
    "a = np.arange(9).reshape(3, 3) # [[0,1,2],[3,4,5],[6,7,8]]\n",
    "b = a[:2] # b is a new array object: [[0,1,2],[3,4,5]]\n",
    "b[0, 2] = 100 # Modifying one of b's elements\n",
    "print (a) # a is also modified"
   ]
  },
  {
   "cell_type": "markdown",
   "metadata": {},
   "source": [
    "### Indexing with Boolean Array"
   ]
  },
  {
   "cell_type": "code",
   "execution_count": 61,
   "metadata": {},
   "outputs": [
    {
     "name": "stdout",
     "output_type": "stream",
     "text": [
      "[[False  True  True]\n",
      " [ True  True  True]\n",
      " [ True  True  True]]\n"
     ]
    }
   ],
   "source": [
    "a = np.arange(9).reshape(3, 3) # [[0,1,2],[3,4,5],[6,7,8]]\n",
    "print (a>0)"
   ]
  },
  {
   "cell_type": "code",
   "execution_count": 62,
   "metadata": {},
   "outputs": [
    {
     "name": "stdout",
     "output_type": "stream",
     "text": [
      "[0 1 2 3 4]\n",
      "[0 2 4 6 8]\n"
     ]
    }
   ],
   "source": [
    "a = np.arange(9).reshape(3, 3) # [[0,1,2],[3,4,5],[6,7,8]]\n",
    "print (a[ a<5 ])\n",
    "print (a[ a%2 == 0 ])"
   ]
  },
  {
   "cell_type": "markdown",
   "metadata": {},
   "source": [
    "### Indexing with Array of Indices\n"
   ]
  },
  {
   "cell_type": "code",
   "execution_count": 63,
   "metadata": {},
   "outputs": [
    {
     "name": "stdout",
     "output_type": "stream",
     "text": [
      "[[[0 1 2]\n",
      "  [6 7 8]]\n",
      "\n",
      " [[0 1 2]\n",
      "  [3 4 5]]]\n"
     ]
    }
   ],
   "source": [
    "a = np.arange(9).reshape(3, 3) # [[0,1,2],[3,4,5],[6,7,8]]\n",
    "i = np.array([[0,2], [0, 1]])\n",
    "print (a[i])"
   ]
  },
  {
   "cell_type": "markdown",
   "metadata": {},
   "source": [
    "### Data Types"
   ]
  },
  {
   "cell_type": "code",
   "execution_count": 65,
   "metadata": {
    "id": "qBWOFg8tz1s1",
    "outputId": "09cc92d8-4aa8-44f6-9d73-1db714f60e31"
   },
   "outputs": [
    {
     "name": "stdout",
     "output_type": "stream",
     "text": [
      "1.0\n"
     ]
    }
   ],
   "source": [
    "x = np.double(1)\n",
    "print (x)"
   ]
  },
  {
   "cell_type": "code",
   "execution_count": null,
   "metadata": {
    "id": "GqutUDlyz1s1",
    "outputId": "a9b6e37a-86be-4d7c-e6d4-875639566323"
   },
   "outputs": [
    {
     "name": "stdout",
     "output_type": "stream",
     "text": [
      "[0 1 2]\n"
     ]
    }
   ],
   "source": [
    "y = np.intc([0.5, 1.5, 2.5])\n",
    "print (y)"
   ]
  },
  {
   "cell_type": "code",
   "execution_count": null,
   "metadata": {
    "id": "mnYyR9AMz1s2",
    "outputId": "c8b3f9ce-6e76-4b7e-a649-19218b48e576"
   },
   "outputs": [
    {
     "name": "stdout",
     "output_type": "stream",
     "text": [
      "[0. 1. 2. 3. 4.]\n"
     ]
    }
   ],
   "source": [
    "z = np.arange(5, dtype=np.double)\n",
    "print (z)"
   ]
  },
  {
   "cell_type": "code",
   "execution_count": null,
   "metadata": {
    "id": "qGSDI6-Lz1s2",
    "outputId": "1b3554cb-c27c-47a4-cf99-ef8829883ccd"
   },
   "outputs": [
    {
     "name": "stdout",
     "output_type": "stream",
     "text": [
      "[0.5 1.5 2.5]\n"
     ]
    }
   ],
   "source": [
    "w = np.array([0.5, 1.5, 2.5], dtype=np.single)\n",
    "print (w)"
   ]
  },
  {
   "cell_type": "code",
   "execution_count": null,
   "metadata": {
    "id": "rp0thcFuz1s2",
    "outputId": "0e8edce4-b56a-4763-c453-d10c7196b7cc"
   },
   "outputs": [
    {
     "name": "stdout",
     "output_type": "stream",
     "text": [
      "[0 1 2]\n"
     ]
    }
   ],
   "source": [
    "a = w.astype(int) # Return a copy of the array casted to the given type\n",
    "print (a)"
   ]
  },
  {
   "cell_type": "code",
   "execution_count": null,
   "metadata": {
    "id": "4Zmjpc-bz1s2"
   },
   "outputs": [],
   "source": []
  }
 ],
 "metadata": {
  "colab": {
   "collapsed_sections": [],
   "name": "tut05_python_numpy.ipynb",
   "provenance": []
  },
  "kernelspec": {
   "display_name": "Python 3 (ipykernel)",
   "language": "python",
   "name": "python3"
  },
  "language_info": {
   "codemirror_mode": {
    "name": "ipython",
    "version": 3
   },
   "file_extension": ".py",
   "mimetype": "text/x-python",
   "name": "python",
   "nbconvert_exporter": "python",
   "pygments_lexer": "ipython3",
   "version": "3.10.12"
  }
 },
 "nbformat": 4,
 "nbformat_minor": 4
}
